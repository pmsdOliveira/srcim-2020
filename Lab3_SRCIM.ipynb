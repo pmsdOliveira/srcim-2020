{
  "nbformat": 4,
  "nbformat_minor": 0,
  "metadata": {
    "accelerator": "GPU",
    "colab": {
      "name": "Lab3_SRCIM.ipynb",
      "provenance": [],
      "toc_visible": true
    },
    "kernelspec": {
      "display_name": "Python 3",
      "name": "python3"
    }
  },
  "cells": [
    {
      "cell_type": "code",
      "metadata": {
        "colab": {
          "base_uri": "https://localhost:8080/"
        },
        "id": "TBIexk04ruWK",
        "outputId": "990a56da-9b8d-4c20-eee4-2adb860fb842"
      },
      "source": [
        "!pip install tensorflow==2.1.0\n",
        "\n",
        "import tensorflow as tf\n",
        "print(tf.__version__)"
      ],
      "execution_count": 1,
      "outputs": [
        {
          "output_type": "stream",
          "text": [
            "Collecting tensorflow==2.1.0\n",
            "\u001b[?25l  Downloading https://files.pythonhosted.org/packages/85/d4/c0cd1057b331bc38b65478302114194bd8e1b9c2bbc06e300935c0e93d90/tensorflow-2.1.0-cp36-cp36m-manylinux2010_x86_64.whl (421.8MB)\n",
            "\u001b[K     |████████████████████████████████| 421.8MB 19kB/s \n",
            "\u001b[?25hRequirement already satisfied: six>=1.12.0 in /usr/local/lib/python3.6/dist-packages (from tensorflow==2.1.0) (1.15.0)\n",
            "Requirement already satisfied: grpcio>=1.8.6 in /usr/local/lib/python3.6/dist-packages (from tensorflow==2.1.0) (1.33.2)\n",
            "Collecting gast==0.2.2\n",
            "  Downloading https://files.pythonhosted.org/packages/4e/35/11749bf99b2d4e3cceb4d55ca22590b0d7c2c62b9de38ac4a4a7f4687421/gast-0.2.2.tar.gz\n",
            "Collecting tensorboard<2.2.0,>=2.1.0\n",
            "\u001b[?25l  Downloading https://files.pythonhosted.org/packages/d9/41/bbf49b61370e4f4d245d4c6051dfb6db80cec672605c91b1652ac8cc3d38/tensorboard-2.1.1-py3-none-any.whl (3.8MB)\n",
            "\u001b[K     |████████████████████████████████| 3.9MB 51.9MB/s \n",
            "\u001b[?25hRequirement already satisfied: astor>=0.6.0 in /usr/local/lib/python3.6/dist-packages (from tensorflow==2.1.0) (0.8.1)\n",
            "Requirement already satisfied: absl-py>=0.7.0 in /usr/local/lib/python3.6/dist-packages (from tensorflow==2.1.0) (0.10.0)\n",
            "Requirement already satisfied: keras-preprocessing>=1.1.0 in /usr/local/lib/python3.6/dist-packages (from tensorflow==2.1.0) (1.1.2)\n",
            "Requirement already satisfied: protobuf>=3.8.0 in /usr/local/lib/python3.6/dist-packages (from tensorflow==2.1.0) (3.12.4)\n",
            "Requirement already satisfied: termcolor>=1.1.0 in /usr/local/lib/python3.6/dist-packages (from tensorflow==2.1.0) (1.1.0)\n",
            "Requirement already satisfied: google-pasta>=0.1.6 in /usr/local/lib/python3.6/dist-packages (from tensorflow==2.1.0) (0.2.0)\n",
            "Requirement already satisfied: opt-einsum>=2.3.2 in /usr/local/lib/python3.6/dist-packages (from tensorflow==2.1.0) (3.3.0)\n",
            "Requirement already satisfied: wheel>=0.26; python_version >= \"3\" in /usr/local/lib/python3.6/dist-packages (from tensorflow==2.1.0) (0.35.1)\n",
            "Requirement already satisfied: scipy==1.4.1; python_version >= \"3\" in /usr/local/lib/python3.6/dist-packages (from tensorflow==2.1.0) (1.4.1)\n",
            "Collecting tensorflow-estimator<2.2.0,>=2.1.0rc0\n",
            "\u001b[?25l  Downloading https://files.pythonhosted.org/packages/18/90/b77c328a1304437ab1310b463e533fa7689f4bfc41549593056d812fab8e/tensorflow_estimator-2.1.0-py2.py3-none-any.whl (448kB)\n",
            "\u001b[K     |████████████████████████████████| 450kB 54.5MB/s \n",
            "\u001b[?25hCollecting keras-applications>=1.0.8\n",
            "\u001b[?25l  Downloading https://files.pythonhosted.org/packages/71/e3/19762fdfc62877ae9102edf6342d71b28fbfd9dea3d2f96a882ce099b03f/Keras_Applications-1.0.8-py3-none-any.whl (50kB)\n",
            "\u001b[K     |████████████████████████████████| 51kB 9.0MB/s \n",
            "\u001b[?25hRequirement already satisfied: wrapt>=1.11.1 in /usr/local/lib/python3.6/dist-packages (from tensorflow==2.1.0) (1.12.1)\n",
            "Requirement already satisfied: numpy<2.0,>=1.16.0 in /usr/local/lib/python3.6/dist-packages (from tensorflow==2.1.0) (1.18.5)\n",
            "Requirement already satisfied: google-auth-oauthlib<0.5,>=0.4.1 in /usr/local/lib/python3.6/dist-packages (from tensorboard<2.2.0,>=2.1.0->tensorflow==2.1.0) (0.4.2)\n",
            "Requirement already satisfied: werkzeug>=0.11.15 in /usr/local/lib/python3.6/dist-packages (from tensorboard<2.2.0,>=2.1.0->tensorflow==2.1.0) (1.0.1)\n",
            "Requirement already satisfied: google-auth<2,>=1.6.3 in /usr/local/lib/python3.6/dist-packages (from tensorboard<2.2.0,>=2.1.0->tensorflow==2.1.0) (1.17.2)\n",
            "Requirement already satisfied: requests<3,>=2.21.0 in /usr/local/lib/python3.6/dist-packages (from tensorboard<2.2.0,>=2.1.0->tensorflow==2.1.0) (2.23.0)\n",
            "Requirement already satisfied: markdown>=2.6.8 in /usr/local/lib/python3.6/dist-packages (from tensorboard<2.2.0,>=2.1.0->tensorflow==2.1.0) (3.3.3)\n",
            "Requirement already satisfied: setuptools>=41.0.0 in /usr/local/lib/python3.6/dist-packages (from tensorboard<2.2.0,>=2.1.0->tensorflow==2.1.0) (50.3.2)\n",
            "Requirement already satisfied: h5py in /usr/local/lib/python3.6/dist-packages (from keras-applications>=1.0.8->tensorflow==2.1.0) (2.10.0)\n",
            "Requirement already satisfied: requests-oauthlib>=0.7.0 in /usr/local/lib/python3.6/dist-packages (from google-auth-oauthlib<0.5,>=0.4.1->tensorboard<2.2.0,>=2.1.0->tensorflow==2.1.0) (1.3.0)\n",
            "Requirement already satisfied: cachetools<5.0,>=2.0.0 in /usr/local/lib/python3.6/dist-packages (from google-auth<2,>=1.6.3->tensorboard<2.2.0,>=2.1.0->tensorflow==2.1.0) (4.1.1)\n",
            "Requirement already satisfied: pyasn1-modules>=0.2.1 in /usr/local/lib/python3.6/dist-packages (from google-auth<2,>=1.6.3->tensorboard<2.2.0,>=2.1.0->tensorflow==2.1.0) (0.2.8)\n",
            "Requirement already satisfied: rsa<5,>=3.1.4; python_version >= \"3\" in /usr/local/lib/python3.6/dist-packages (from google-auth<2,>=1.6.3->tensorboard<2.2.0,>=2.1.0->tensorflow==2.1.0) (4.6)\n",
            "Requirement already satisfied: chardet<4,>=3.0.2 in /usr/local/lib/python3.6/dist-packages (from requests<3,>=2.21.0->tensorboard<2.2.0,>=2.1.0->tensorflow==2.1.0) (3.0.4)\n",
            "Requirement already satisfied: idna<3,>=2.5 in /usr/local/lib/python3.6/dist-packages (from requests<3,>=2.21.0->tensorboard<2.2.0,>=2.1.0->tensorflow==2.1.0) (2.10)\n",
            "Requirement already satisfied: certifi>=2017.4.17 in /usr/local/lib/python3.6/dist-packages (from requests<3,>=2.21.0->tensorboard<2.2.0,>=2.1.0->tensorflow==2.1.0) (2020.11.8)\n",
            "Requirement already satisfied: urllib3!=1.25.0,!=1.25.1,<1.26,>=1.21.1 in /usr/local/lib/python3.6/dist-packages (from requests<3,>=2.21.0->tensorboard<2.2.0,>=2.1.0->tensorflow==2.1.0) (1.24.3)\n",
            "Requirement already satisfied: importlib-metadata; python_version < \"3.8\" in /usr/local/lib/python3.6/dist-packages (from markdown>=2.6.8->tensorboard<2.2.0,>=2.1.0->tensorflow==2.1.0) (2.0.0)\n",
            "Requirement already satisfied: oauthlib>=3.0.0 in /usr/local/lib/python3.6/dist-packages (from requests-oauthlib>=0.7.0->google-auth-oauthlib<0.5,>=0.4.1->tensorboard<2.2.0,>=2.1.0->tensorflow==2.1.0) (3.1.0)\n",
            "Requirement already satisfied: pyasn1<0.5.0,>=0.4.6 in /usr/local/lib/python3.6/dist-packages (from pyasn1-modules>=0.2.1->google-auth<2,>=1.6.3->tensorboard<2.2.0,>=2.1.0->tensorflow==2.1.0) (0.4.8)\n",
            "Requirement already satisfied: zipp>=0.5 in /usr/local/lib/python3.6/dist-packages (from importlib-metadata; python_version < \"3.8\"->markdown>=2.6.8->tensorboard<2.2.0,>=2.1.0->tensorflow==2.1.0) (3.4.0)\n",
            "Building wheels for collected packages: gast\n",
            "  Building wheel for gast (setup.py) ... \u001b[?25l\u001b[?25hdone\n",
            "  Created wheel for gast: filename=gast-0.2.2-cp36-none-any.whl size=7542 sha256=91c982e26b76a9bf9b8991aee6018a13ab909b7e6703a0661d0277a9961c8d34\n",
            "  Stored in directory: /root/.cache/pip/wheels/5c/2e/7e/a1d4d4fcebe6c381f378ce7743a3ced3699feb89bcfbdadadd\n",
            "Successfully built gast\n",
            "\u001b[31mERROR: tensorflow-probability 0.11.0 has requirement gast>=0.3.2, but you'll have gast 0.2.2 which is incompatible.\u001b[0m\n",
            "Installing collected packages: gast, tensorboard, tensorflow-estimator, keras-applications, tensorflow\n",
            "  Found existing installation: gast 0.3.3\n",
            "    Uninstalling gast-0.3.3:\n",
            "      Successfully uninstalled gast-0.3.3\n",
            "  Found existing installation: tensorboard 2.3.0\n",
            "    Uninstalling tensorboard-2.3.0:\n",
            "      Successfully uninstalled tensorboard-2.3.0\n",
            "  Found existing installation: tensorflow-estimator 2.3.0\n",
            "    Uninstalling tensorflow-estimator-2.3.0:\n",
            "      Successfully uninstalled tensorflow-estimator-2.3.0\n",
            "  Found existing installation: tensorflow 2.3.0\n",
            "    Uninstalling tensorflow-2.3.0:\n",
            "      Successfully uninstalled tensorflow-2.3.0\n",
            "Successfully installed gast-0.2.2 keras-applications-1.0.8 tensorboard-2.1.1 tensorflow-2.1.0 tensorflow-estimator-2.1.0\n",
            "2.1.0\n"
          ],
          "name": "stdout"
        }
      ]
    },
    {
      "cell_type": "code",
      "metadata": {
        "colab": {
          "base_uri": "https://localhost:8080/"
        },
        "id": "wkz7JDKasTD6",
        "outputId": "4de0d00f-efe8-43a4-8f00-d6d2c84820f5"
      },
      "source": [
        "!gdown --id \"1rtLYlLQ9QIMEb5v2eH1D9mu7FpgOqzYq\""
      ],
      "execution_count": 2,
      "outputs": [
        {
          "output_type": "stream",
          "text": [
            "Downloading...\n",
            "From: https://drive.google.com/uc?id=1rtLYlLQ9QIMEb5v2eH1D9mu7FpgOqzYq\n",
            "To: /content/dataset_lab3_SRCIM_400.zip\n",
            "\r0.00B [00:00, ?B/s]\r13.5MB [00:00, 119MB/s]\n"
          ],
          "name": "stdout"
        }
      ]
    },
    {
      "cell_type": "code",
      "metadata": {
        "id": "ffVF1D6CsWW0"
      },
      "source": [
        "import os\n",
        "import zipfile\n",
        "\n",
        "local_zip = \"/content/dataset_lab3_SRCIM_400.zip\"\n",
        "zip_ref = zipfile.ZipFile(local_zip, \"r\")\n",
        "zip_ref.extractall('/tmp')\n",
        "\n",
        "zip_ref.close()"
      ],
      "execution_count": 3,
      "outputs": []
    },
    {
      "cell_type": "code",
      "metadata": {
        "colab": {
          "base_uri": "https://localhost:8080/"
        },
        "id": "fPY2tQEltj5V",
        "outputId": "a97690d3-1df9-4909-d622-2ed14002ef4d"
      },
      "source": [
        "data_path = \"/tmp/dataset\"\n",
        "\n",
        "IMAGE_SHAPE = (224, 224)\n",
        "TRAINING_DATA_DIR = str(data_path)\n",
        "\n",
        "datagen_kwargs = dict(\n",
        "    rescale=1./255,\n",
        "    validation_split=0.20\n",
        ")\n",
        "\n",
        "train_datagen = tf.keras.preprocessing.image.ImageDataGenerator(**datagen_kwargs)\n",
        "train_generator = train_datagen.flow_from_directory(\n",
        "    TRAINING_DATA_DIR,\n",
        "    subset=\"training\",\n",
        "    shuffle=True,\n",
        "    target_size=IMAGE_SHAPE\n",
        ")\n",
        "\n",
        "valid_datagen = tf.keras.preprocessing.image.ImageDataGenerator(**datagen_kwargs)\n",
        "valid_generator = valid_datagen.flow_from_directory(\n",
        "    TRAINING_DATA_DIR,\n",
        "    subset=\"validation\",\n",
        "    shuffle=True,\n",
        "    target_size=IMAGE_SHAPE\n",
        ")"
      ],
      "execution_count": 4,
      "outputs": [
        {
          "output_type": "stream",
          "text": [
            "Found 320 images belonging to 2 classes.\n",
            "Found 80 images belonging to 2 classes.\n"
          ],
          "name": "stdout"
        }
      ]
    },
    {
      "cell_type": "code",
      "metadata": {
        "colab": {
          "base_uri": "https://localhost:8080/"
        },
        "id": "BtdyUXkLupCP",
        "outputId": "263925a2-b38e-4f85-8056-76b9ecda5961"
      },
      "source": [
        "#Initiate Sequential Model\n",
        "model = tf.keras.models.Sequential()\n",
        "\n",
        "#First Convolutional Layer\n",
        "model.add(\n",
        "  tf.keras.layers.Conv2D(\n",
        "    filters=32,\n",
        "    kernel_size=(3, 3),\n",
        "    input_shape=(224, 224, 3),\n",
        "    activation='relu'\n",
        "  )\n",
        ")\n",
        "\n",
        "model.add(tf.keras.layers.MaxPool2D(pool_size=(2,2)))\n",
        "\n",
        "#Second Convolution Layer\n",
        "model.add(\n",
        "  tf.keras.layers.Conv2D(\n",
        "    filters=64,\n",
        "    kernel_size=(3, 3),\n",
        "    activation='relu'\n",
        "  )\n",
        ")\n",
        "\n",
        "model.add(tf.keras.layers.MaxPool2D(pool_size=(2,2)))\n",
        "\n",
        "#Third Convolutional Layer\n",
        "model.add(\n",
        "  tf.keras.layers.Conv2D(\n",
        "    filters=128,\n",
        "    kernel_size=(3, 3),\n",
        "    activation='relu'\n",
        "  )\n",
        ")\n",
        "\n",
        "model.add(tf.keras.layers.MaxPool2D(pool_size=(2,2)))\n",
        "\n",
        "#Fourth Convolutional Layer\n",
        "model.add(\n",
        "  tf.keras.layers.Conv2D(\n",
        "    filters=256,\n",
        "    kernel_size=(3, 3),\n",
        "    activation='relu'\n",
        "  )\n",
        ")\n",
        "\n",
        "model.add(tf.keras.layers.MaxPool2D(pool_size=(2,2)))\n",
        "\n",
        "#Flatten the fooled feature map\n",
        "model.add(tf.keras.layers.Flatten())\n",
        "\n",
        "#Add the fully connected layer with a ReLU\n",
        "model.add(tf.keras.layers.Dense(256))\n",
        "model.add(tf.keras.layers.Activation('relu'))\n",
        "\n",
        "#Add output layer\n",
        "model.add(tf.keras.layers.Dense(train_generator.num_classes, activation=\"softmax\"))\n",
        "\n",
        "#Build model and print\n",
        "model.build([None, 224, 224, 3])\n",
        "model.summary()"
      ],
      "execution_count": 5,
      "outputs": [
        {
          "output_type": "stream",
          "text": [
            "Model: \"sequential\"\n",
            "_________________________________________________________________\n",
            "Layer (type)                 Output Shape              Param #   \n",
            "=================================================================\n",
            "conv2d (Conv2D)              (None, 222, 222, 32)      896       \n",
            "_________________________________________________________________\n",
            "max_pooling2d (MaxPooling2D) (None, 111, 111, 32)      0         \n",
            "_________________________________________________________________\n",
            "conv2d_1 (Conv2D)            (None, 109, 109, 64)      18496     \n",
            "_________________________________________________________________\n",
            "max_pooling2d_1 (MaxPooling2 (None, 54, 54, 64)        0         \n",
            "_________________________________________________________________\n",
            "conv2d_2 (Conv2D)            (None, 52, 52, 128)       73856     \n",
            "_________________________________________________________________\n",
            "max_pooling2d_2 (MaxPooling2 (None, 26, 26, 128)       0         \n",
            "_________________________________________________________________\n",
            "conv2d_3 (Conv2D)            (None, 24, 24, 256)       295168    \n",
            "_________________________________________________________________\n",
            "max_pooling2d_3 (MaxPooling2 (None, 12, 12, 256)       0         \n",
            "_________________________________________________________________\n",
            "flatten (Flatten)            (None, 36864)             0         \n",
            "_________________________________________________________________\n",
            "dense (Dense)                (None, 256)               9437440   \n",
            "_________________________________________________________________\n",
            "activation (Activation)      (None, 256)               0         \n",
            "_________________________________________________________________\n",
            "dense_1 (Dense)              (None, 2)                 514       \n",
            "=================================================================\n",
            "Total params: 9,826,370\n",
            "Trainable params: 9,826,370\n",
            "Non-trainable params: 0\n",
            "_________________________________________________________________\n"
          ],
          "name": "stdout"
        }
      ]
    },
    {
      "cell_type": "code",
      "metadata": {
        "id": "hgs1-aUKu9_x"
      },
      "source": [
        "#Compile the model\n",
        "optimizer = tf.keras.optimizers.Adam()\n",
        "\n",
        "model.compile(\n",
        "    optimizer=optimizer,\n",
        "    loss='binary_crossentropy',\n",
        "    metrics=['acc']\n",
        ")"
      ],
      "execution_count": 6,
      "outputs": []
    },
    {
      "cell_type": "code",
      "metadata": {
        "id": "-NGcmgz0vAai",
        "colab": {
          "base_uri": "https://localhost:8080/"
        },
        "outputId": "e3820355-eb65-4a7b-9a07-b5171915b4a1"
      },
      "source": [
        "#Model training and validation\n",
        "import numpy as np\n",
        "\n",
        "callbacks = [tf.keras.callbacks.EarlyStopping(patience=5)]\n",
        "\n",
        "steps_per_epoch = np.ceil(train_generator.samples/train_generator.batch_size)\n",
        "val_steps_per_epoch = np.ceil(valid_generator.samples/valid_generator.batch_size)\n",
        "\n",
        "hist = model.fit(\n",
        "    train_generator,\n",
        "    epochs=50,\n",
        "    verbose=1,\n",
        "    #callbacks=callbacks,\n",
        "    steps_per_epoch=steps_per_epoch,\n",
        "    validation_data=valid_generator,\n",
        "    validation_steps=val_steps_per_epoch\n",
        ").history"
      ],
      "execution_count": 7,
      "outputs": [
        {
          "output_type": "stream",
          "text": [
            "WARNING:tensorflow:sample_weight modes were coerced from\n",
            "  ...\n",
            "    to  \n",
            "  ['...']\n",
            "WARNING:tensorflow:sample_weight modes were coerced from\n",
            "  ...\n",
            "    to  \n",
            "  ['...']\n",
            "Train for 10.0 steps, validate for 3.0 steps\n",
            "Epoch 1/50\n",
            "10/10 [==============================] - 9s 926ms/step - loss: 0.9785 - acc: 0.4938 - val_loss: 0.7003 - val_acc: 0.5000\n",
            "Epoch 2/50\n",
            "10/10 [==============================] - 2s 194ms/step - loss: 0.6954 - acc: 0.5000 - val_loss: 0.6934 - val_acc: 0.5000\n",
            "Epoch 3/50\n",
            "10/10 [==============================] - 2s 193ms/step - loss: 0.6931 - acc: 0.5000 - val_loss: 0.6932 - val_acc: 0.5000\n",
            "Epoch 4/50\n",
            "10/10 [==============================] - 2s 193ms/step - loss: 0.6932 - acc: 0.5156 - val_loss: 0.6931 - val_acc: 0.4875\n",
            "Epoch 5/50\n",
            "10/10 [==============================] - 2s 195ms/step - loss: 0.6932 - acc: 0.5156 - val_loss: 0.6931 - val_acc: 0.5000\n",
            "Epoch 6/50\n",
            "10/10 [==============================] - 2s 194ms/step - loss: 0.6932 - acc: 0.4750 - val_loss: 0.6931 - val_acc: 0.5000\n",
            "Epoch 7/50\n",
            "10/10 [==============================] - 2s 196ms/step - loss: 0.6931 - acc: 0.5219 - val_loss: 0.6932 - val_acc: 0.5000\n",
            "Epoch 8/50\n",
            "10/10 [==============================] - 2s 196ms/step - loss: 0.6929 - acc: 0.5250 - val_loss: 0.6932 - val_acc: 0.5125\n",
            "Epoch 9/50\n",
            "10/10 [==============================] - 2s 196ms/step - loss: 0.6926 - acc: 0.5250 - val_loss: 0.6936 - val_acc: 0.4625\n",
            "Epoch 10/50\n",
            "10/10 [==============================] - 2s 198ms/step - loss: 0.6917 - acc: 0.5781 - val_loss: 0.6909 - val_acc: 0.5500\n",
            "Epoch 11/50\n",
            "10/10 [==============================] - 2s 201ms/step - loss: 0.6825 - acc: 0.6062 - val_loss: 0.6938 - val_acc: 0.4625\n",
            "Epoch 12/50\n",
            "10/10 [==============================] - 2s 197ms/step - loss: 0.6629 - acc: 0.5656 - val_loss: 0.6895 - val_acc: 0.4375\n",
            "Epoch 13/50\n",
            "10/10 [==============================] - 2s 195ms/step - loss: 0.6105 - acc: 0.6719 - val_loss: 0.6712 - val_acc: 0.6625\n",
            "Epoch 14/50\n",
            "10/10 [==============================] - 2s 193ms/step - loss: 0.5076 - acc: 0.7750 - val_loss: 0.6824 - val_acc: 0.5500\n",
            "Epoch 15/50\n",
            "10/10 [==============================] - 2s 198ms/step - loss: 0.3957 - acc: 0.8594 - val_loss: 0.5384 - val_acc: 0.7250\n",
            "Epoch 16/50\n",
            "10/10 [==============================] - 2s 196ms/step - loss: 0.3535 - acc: 0.8750 - val_loss: 0.4489 - val_acc: 0.7625\n",
            "Epoch 17/50\n",
            "10/10 [==============================] - 2s 195ms/step - loss: 0.3898 - acc: 0.8188 - val_loss: 0.5297 - val_acc: 0.7250\n",
            "Epoch 18/50\n",
            "10/10 [==============================] - 2s 195ms/step - loss: 0.4025 - acc: 0.8344 - val_loss: 0.4296 - val_acc: 0.8375\n",
            "Epoch 19/50\n",
            "10/10 [==============================] - 2s 196ms/step - loss: 0.4448 - acc: 0.8250 - val_loss: 0.3918 - val_acc: 0.8875\n",
            "Epoch 20/50\n",
            "10/10 [==============================] - 2s 196ms/step - loss: 0.3198 - acc: 0.8687 - val_loss: 0.3744 - val_acc: 0.9000\n",
            "Epoch 21/50\n",
            "10/10 [==============================] - 2s 196ms/step - loss: 0.2501 - acc: 0.9125 - val_loss: 0.2915 - val_acc: 0.9000\n",
            "Epoch 22/50\n",
            "10/10 [==============================] - 2s 195ms/step - loss: 0.2345 - acc: 0.9563 - val_loss: 0.2159 - val_acc: 0.9375\n",
            "Epoch 23/50\n",
            "10/10 [==============================] - 2s 195ms/step - loss: 0.1833 - acc: 0.9500 - val_loss: 0.2004 - val_acc: 0.9250\n",
            "Epoch 24/50\n",
            "10/10 [==============================] - 2s 195ms/step - loss: 0.1668 - acc: 0.9531 - val_loss: 0.1676 - val_acc: 0.9500\n",
            "Epoch 25/50\n",
            "10/10 [==============================] - 2s 193ms/step - loss: 0.1407 - acc: 0.9719 - val_loss: 0.1595 - val_acc: 0.9625\n",
            "Epoch 26/50\n",
            "10/10 [==============================] - 2s 194ms/step - loss: 0.1330 - acc: 0.9781 - val_loss: 0.1545 - val_acc: 0.9375\n",
            "Epoch 27/50\n",
            "10/10 [==============================] - 2s 193ms/step - loss: 0.1469 - acc: 0.9750 - val_loss: 0.1818 - val_acc: 0.9375\n",
            "Epoch 28/50\n",
            "10/10 [==============================] - 2s 196ms/step - loss: 0.1816 - acc: 0.9563 - val_loss: 0.4654 - val_acc: 0.9000\n",
            "Epoch 29/50\n",
            "10/10 [==============================] - 2s 198ms/step - loss: 0.1323 - acc: 0.9750 - val_loss: 0.1174 - val_acc: 0.9750\n",
            "Epoch 30/50\n",
            "10/10 [==============================] - 2s 194ms/step - loss: 0.1271 - acc: 0.9750 - val_loss: 0.1504 - val_acc: 0.9375\n",
            "Epoch 31/50\n",
            "10/10 [==============================] - 2s 193ms/step - loss: 0.1401 - acc: 0.9719 - val_loss: 0.0963 - val_acc: 0.9625\n",
            "Epoch 32/50\n",
            "10/10 [==============================] - 2s 194ms/step - loss: 0.1217 - acc: 0.9781 - val_loss: 0.0973 - val_acc: 0.9750\n",
            "Epoch 33/50\n",
            "10/10 [==============================] - 2s 196ms/step - loss: 0.1615 - acc: 0.9531 - val_loss: 0.4277 - val_acc: 0.9000\n",
            "Epoch 34/50\n",
            "10/10 [==============================] - 2s 195ms/step - loss: 0.2051 - acc: 0.9563 - val_loss: 0.1445 - val_acc: 0.9750\n",
            "Epoch 35/50\n",
            "10/10 [==============================] - 2s 197ms/step - loss: 0.1069 - acc: 0.9844 - val_loss: 0.1332 - val_acc: 0.9500\n",
            "Epoch 36/50\n",
            "10/10 [==============================] - 2s 197ms/step - loss: 0.1011 - acc: 0.9812 - val_loss: 0.1073 - val_acc: 0.9875\n",
            "Epoch 37/50\n",
            "10/10 [==============================] - 2s 197ms/step - loss: 0.0893 - acc: 0.9906 - val_loss: 0.1389 - val_acc: 0.9625\n",
            "Epoch 38/50\n",
            "10/10 [==============================] - 2s 202ms/step - loss: 0.0920 - acc: 0.9812 - val_loss: 0.1364 - val_acc: 0.9625\n",
            "Epoch 39/50\n",
            "10/10 [==============================] - 2s 196ms/step - loss: 0.0725 - acc: 0.9906 - val_loss: 0.1025 - val_acc: 0.9750\n",
            "Epoch 40/50\n",
            "10/10 [==============================] - 2s 193ms/step - loss: 0.0706 - acc: 0.9906 - val_loss: 0.0568 - val_acc: 0.9875\n",
            "Epoch 41/50\n",
            "10/10 [==============================] - 2s 191ms/step - loss: 0.0770 - acc: 0.9906 - val_loss: 0.1083 - val_acc: 0.9750\n",
            "Epoch 42/50\n",
            "10/10 [==============================] - 2s 193ms/step - loss: 0.1317 - acc: 0.9594 - val_loss: 0.0878 - val_acc: 0.9750\n",
            "Epoch 43/50\n",
            "10/10 [==============================] - 2s 192ms/step - loss: 0.1960 - acc: 0.9719 - val_loss: 0.0523 - val_acc: 0.9875\n",
            "Epoch 44/50\n",
            "10/10 [==============================] - 2s 195ms/step - loss: 0.0848 - acc: 0.9906 - val_loss: 0.0718 - val_acc: 0.9750\n",
            "Epoch 45/50\n",
            "10/10 [==============================] - 2s 200ms/step - loss: 0.0748 - acc: 0.9906 - val_loss: 0.1263 - val_acc: 0.9625\n",
            "Epoch 46/50\n",
            "10/10 [==============================] - 2s 194ms/step - loss: 0.0735 - acc: 0.9875 - val_loss: 0.0645 - val_acc: 0.9750\n",
            "Epoch 47/50\n",
            "10/10 [==============================] - 2s 193ms/step - loss: 0.0651 - acc: 0.9906 - val_loss: 0.0784 - val_acc: 0.9750\n",
            "Epoch 48/50\n",
            "10/10 [==============================] - 2s 192ms/step - loss: 0.0682 - acc: 0.9937 - val_loss: 0.1039 - val_acc: 0.9625\n",
            "Epoch 49/50\n",
            "10/10 [==============================] - 2s 192ms/step - loss: 0.0741 - acc: 0.9906 - val_loss: 0.1722 - val_acc: 0.9625\n",
            "Epoch 50/50\n",
            "10/10 [==============================] - 2s 192ms/step - loss: 0.0724 - acc: 0.9937 - val_loss: 0.1026 - val_acc: 0.9750\n"
          ],
          "name": "stdout"
        }
      ]
    },
    {
      "cell_type": "code",
      "metadata": {
        "id": "6DpMb7BfvDFf"
      },
      "source": [
        "#Vizualize the training history in termos of accuracy and loss\n",
        "import matplotlib.pyplot as plt\n",
        "\n",
        "plt.figure()\n",
        "plt.ylabel(\"Loss (training and validation)\")\n",
        "plt.xlabel(\"Training Steps\")\n",
        "plt.ylim([0, 2])\n",
        "plt.plot(hist[\"loss\"])\n",
        "plt.plot(hist[\"val_loss\"])\n",
        "plt.figure()\n",
        "plt.ylabel(\"Accuracy(training and validation)\")\n",
        "plt.xlabel(\"Training Steps\")\n",
        "plt.ylim([0.6, 1])\n",
        "plt.plot(hist[\"acc\"])\n",
        "plt.plot(hist[\"val_acc\"])"
      ],
      "execution_count": null,
      "outputs": []
    },
    {
      "cell_type": "code",
      "metadata": {
        "colab": {
          "base_uri": "https://localhost:8080/"
        },
        "id": "_18kTii-vGmJ",
        "outputId": "a8153772-08d7-4c0d-9bfe-7a1c6239992f"
      },
      "source": [
        "#Check final loss and accuracy results\n",
        "final_loss, final_accuracy = model.evaluate(valid_generator, steps = val_steps_per_epoch)\n",
        "print(\"Final Loss: {:.2f}\".format(final_loss))\n",
        "print(\"Final Accuracy: {:2f}%\".format(final_accuracy * 100))"
      ],
      "execution_count": 8,
      "outputs": [
        {
          "output_type": "stream",
          "text": [
            "WARNING:tensorflow:sample_weight modes were coerced from\n",
            "  ...\n",
            "    to  \n",
            "  ['...']\n",
            "3/3 [==============================] - 0s 117ms/step - loss: 0.1026 - acc: 0.9750\n",
            "Final Loss: 0.10\n",
            "Final Accuracy: 97.500002%\n"
          ],
          "name": "stdout"
        }
      ]
    },
    {
      "cell_type": "code",
      "metadata": {
        "colab": {
          "base_uri": "https://localhost:8080/"
        },
        "id": "7IRYpbNpvILo",
        "outputId": "a461a311-c076-4a90-f9ff-d54b53463cae"
      },
      "source": [
        "#Save trained model\n",
        "model.save(\"srcim_model.h5\")\n",
        "print(\"Model saved\")"
      ],
      "execution_count": 10,
      "outputs": [
        {
          "output_type": "stream",
          "text": [
            "Model saved\n"
          ],
          "name": "stdout"
        }
      ]
    }
  ]
}